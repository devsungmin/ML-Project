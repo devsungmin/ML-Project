{
 "cells": [
  {
   "cell_type": "code",
   "execution_count": 1,
   "metadata": {},
   "outputs": [],
   "source": [
    "import numpy as np\n",
    "import pandas as pd \n",
    "from sklearn.ensemble import RandomForestClassifier\n",
    "from sklearn.model_selection import train_test_split\n",
    "import matplotlib.pyplot as plt\n",
    "from sklearn.preprocessing import OneHotEncoder"
   ]
  },
  {
   "cell_type": "code",
   "execution_count": 2,
   "metadata": {},
   "outputs": [
    {
     "name": "stdout",
     "output_type": "stream",
     "text": [
      "(59, 7)\n",
      "     Name      Surname  Age  Smokes  AreaQ  Alkhol  Result\n",
      "0    John         Wick   35       3      5       4       1\n",
      "1    John  Constantine   27      20      2       5       1\n",
      "2  Camela     Anderson   30       0      5       2       0\n",
      "3    Alex       Telles   28       0      8       1       0\n",
      "4   Diego     Maradona   68       4      5       6       1\n"
     ]
    }
   ],
   "source": [
    "# 데이터 로드\n",
    "lung_cancer = pd.read_csv('lung_cancer_examples.csv', delimiter=',')\n",
    "\n",
    "# 데이터 특성 값 확인\n",
    "print(lung_cancer.shape)\n",
    "print(lung_cancer.head())"
   ]
  },
  {
   "cell_type": "code",
   "execution_count": 3,
   "metadata": {},
   "outputs": [
    {
     "name": "stdout",
     "output_type": "stream",
     "text": [
      "[[0. 0. 0. ... 0. 0. 1.]\n",
      " [0. 0. 0. ... 0. 0. 1.]\n",
      " [0. 0. 0. ... 0. 1. 0.]\n",
      " ...\n",
      " [0. 0. 0. ... 0. 0. 1.]\n",
      " [0. 0. 0. ... 1. 0. 1.]\n",
      " [0. 0. 0. ... 0. 1. 0.]]\n",
      "['x0_Alec ' 'x0_Alex' 'x0_Anna' 'x0_Barbra' 'x0_Barbra ' 'x0_Camela'\n",
      " 'x0_Charlize ' 'x0_Charlton ' 'x0_Cristiano' 'x0_Diane ' 'x0_Diego'\n",
      " 'x0_Dustin ' 'x0_Ellen ' 'x0_Ernest ' 'x0_Faye ' 'x0_Fredric' 'x0_Gene '\n",
      " 'x0_Glenda ' 'x0_Gregory ' 'x0_Gwyneth ' 'x0_Halle ' 'x0_Henry '\n",
      " 'x0_Jack ' 'x0_Jane' 'x0_Jane ' 'x0_Jessica ' 'x0_Joan' 'x0_John'\n",
      " 'x0_John ' 'x0_Katharine ' 'x0_Kathy' 'x0_Lee ' 'x0_Maggie ' 'x0_Marlon '\n",
      " 'x0_Maximilian ' 'x0_Mihail' 'x0_Nicole' 'x0_Nicole ' 'x0_Paul '\n",
      " 'x0_Peter ' 'x0_Ray' 'x0_Rex ' 'x0_Richard ' 'x0_Robert ' 'x0_Rod '\n",
      " 'x0_Sally ' 'x0_Sidney ' 'x0_Sissy ' 'x0_Yul' 'x1_Anderson' 'x1_Bates'\n",
      " 'x1_Berry' 'x1_Borgnine' 'x1_Brando' 'x1_Brynner' 'x1_Burstyn'\n",
      " 'x1_Constantine' 'x1_Crawford' 'x1_Dreyfuss' 'x1_Dunaway' 'x1_Duvall'\n",
      " 'x1_Field' 'x1_Finch ' 'x1_Fonda' 'x1_Guinness' 'x1_Hackman'\n",
      " 'x1_Harrison' 'x1_Henry ' 'x1_Hepburn' 'x1_Heston' 'x1_Hoffman'\n",
      " 'x1_Jackson' 'x1_Keaton' 'x1_Kidman' 'x1_Lange' 'x1_Lemmon' 'x1_Magnani'\n",
      " 'x1_Maradona' 'x1_March' 'x1_Marvin' 'x1_Milland' 'x1_Nicholson'\n",
      " 'x1_Paltrow' 'x1_Peck' 'x1_Poitier' 'x1_Ronaldo' 'x1_Schell'\n",
      " 'x1_Scofield' 'x1_Smith' 'x1_Spacek' 'x1_Steiger' 'x1_Streisand' 'x1_Tal'\n",
      " 'x1_Telles' 'x1_Theron' 'x1_Wayne' 'x1_Wick' 'x1_Wyman' 'x2_18' 'x2_19'\n",
      " 'x2_21' 'x2_22' 'x2_25' 'x2_26' 'x2_27' 'x2_28' 'x2_30' 'x2_31' 'x2_33'\n",
      " 'x2_34' 'x2_35' 'x2_36' 'x2_37' 'x2_39' 'x2_40' 'x2_42' 'x2_43' 'x2_44'\n",
      " 'x2_45' 'x2_47' 'x2_50' 'x2_51' 'x2_52' 'x2_53' 'x2_55' 'x2_56' 'x2_58'\n",
      " 'x2_59' 'x2_62' 'x2_63' 'x2_68' 'x2_69' 'x2_73' 'x2_75' 'x2_77' 'x3_0'\n",
      " 'x3_2' 'x3_3' 'x3_4' 'x3_5' 'x3_8' 'x3_10' 'x3_12' 'x3_13' 'x3_15'\n",
      " 'x3_18' 'x3_20' 'x3_22' 'x3_25' 'x3_30' 'x3_34' 'x4_1' 'x4_2' 'x4_3'\n",
      " 'x4_4' 'x4_5' 'x4_6' 'x4_7' 'x4_8' 'x4_9' 'x4_10' 'x5_0' 'x5_1' 'x5_2'\n",
      " 'x5_3' 'x5_4' 'x5_5' 'x5_6' 'x5_7' 'x5_8' 'x6_0' 'x6_1']\n"
     ]
    }
   ],
   "source": [
    "# OneHotEncode\n",
    "oghe = OneHotEncoder(sparse=False)\n",
    "print(oghe.fit_transform(lung_cancer))\n",
    "print(oghe.get_feature_names())"
   ]
  },
  {
   "cell_type": "code",
   "execution_count": 4,
   "metadata": {},
   "outputs": [],
   "source": [
    "X = lung_cancer.drop(['Result','Name', 'Surname'], axis = 1, inplace = False)\n",
    "y = lung_cancer['Result']"
   ]
  },
  {
   "cell_type": "code",
   "execution_count": 5,
   "metadata": {},
   "outputs": [],
   "source": [
    "x_train, x_test, y_train, y_test = train_test_split(X,y,test_size = .2)"
   ]
  },
  {
   "cell_type": "code",
   "execution_count": 6,
   "metadata": {},
   "outputs": [],
   "source": [
    "model = RandomForestClassifier(n_estimators=4, random_state=42)"
   ]
  },
  {
   "cell_type": "code",
   "execution_count": 7,
   "metadata": {},
   "outputs": [
    {
     "data": {
      "text/plain": [
       "RandomForestClassifier(bootstrap=True, ccp_alpha=0.0, class_weight=None,\n",
       "                       criterion='gini', max_depth=None, max_features='auto',\n",
       "                       max_leaf_nodes=None, max_samples=None,\n",
       "                       min_impurity_decrease=0.0, min_impurity_split=None,\n",
       "                       min_samples_leaf=1, min_samples_split=2,\n",
       "                       min_weight_fraction_leaf=0.0, n_estimators=4,\n",
       "                       n_jobs=None, oob_score=False, random_state=42, verbose=0,\n",
       "                       warm_start=False)"
      ]
     },
     "execution_count": 7,
     "metadata": {},
     "output_type": "execute_result"
    }
   ],
   "source": [
    "model.fit(x_train, y_train)"
   ]
  },
  {
   "cell_type": "code",
   "execution_count": 8,
   "metadata": {},
   "outputs": [
    {
     "name": "stdout",
     "output_type": "stream",
     "text": [
      "훈련 데이터 셋 : 0.98\n",
      "테스트 데이터 셋 : 0.83\n"
     ]
    }
   ],
   "source": [
    "print(\"훈련 데이터 셋 : {:.2f}\".format(model.score(x_train, y_train)))\n",
    "print(\"테스트 데이터 셋 : {:.2f}\".format(model.score(x_test, y_test)))"
   ]
  },
  {
   "cell_type": "code",
   "execution_count": null,
   "metadata": {},
   "outputs": [],
   "source": []
  }
 ],
 "metadata": {
  "kernelspec": {
   "display_name": "Python 3",
   "language": "python",
   "name": "python3"
  },
  "language_info": {
   "codemirror_mode": {
    "name": "ipython",
    "version": 3
   },
   "file_extension": ".py",
   "mimetype": "text/x-python",
   "name": "python",
   "nbconvert_exporter": "python",
   "pygments_lexer": "ipython3",
   "version": "3.7.5"
  }
 },
 "nbformat": 4,
 "nbformat_minor": 2
}
